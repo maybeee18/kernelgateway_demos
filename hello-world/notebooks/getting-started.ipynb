{
 "cells": [
  {
   "cell_type": "markdown",
   "metadata": {},
   "source": [
    "## Hello world Jupyter Kernel Gateway!\n",
    "\n",
    "A very brief introduction to what you can do with jupyter kernel gateway"
   ]
  },
  {
   "cell_type": "markdown",
   "metadata": {},
   "source": [
    "### Data API: supporting multiple data types\n",
    "How to pass various data types from via a RESTfull API. https://en.wikipedia.org/wiki/Media_type"
   ]
  },
  {
   "cell_type": "markdown",
   "metadata": {},
   "source": [
    "#### Text default response"
   ]
  },
  {
   "cell_type": "code",
   "execution_count": 12,
   "metadata": {},
   "outputs": [
    {
     "name": "stdout",
     "output_type": "stream",
     "text": [
      "hello world !\n"
     ]
    }
   ],
   "source": [
    "# GET /text\n",
    "print(\"hello world !\")"
   ]
  },
  {
   "cell_type": "markdown",
   "metadata": {},
   "source": [
    "#### JSON response"
   ]
  },
  {
   "cell_type": "code",
   "execution_count": 13,
   "metadata": {},
   "outputs": [],
   "source": [
    "import json"
   ]
  },
  {
   "cell_type": "code",
   "execution_count": 14,
   "metadata": {},
   "outputs": [
    {
     "name": "stdout",
     "output_type": "stream",
     "text": [
      "{\"hello\": \"world\"}\n"
     ]
    }
   ],
   "source": [
    "# GET /json\n",
    "print(json.dumps({\"hello\":\"world\"}))"
   ]
  },
  {
   "cell_type": "code",
   "execution_count": 15,
   "metadata": {},
   "outputs": [
    {
     "name": "stdout",
     "output_type": "stream",
     "text": [
      "{\"headers\": {\"Content-Type\": \"application/json\"}, \"status\": 203}\n"
     ]
    }
   ],
   "source": [
    "# ResponseInfo GET /json\n",
    "print(json.dumps({\"headers\" : { \"Content-Type\" : 'application/json'}, \"status\" : 203}))"
   ]
  },
  {
   "cell_type": "markdown",
   "metadata": {},
   "source": [
    "#### How to produce images as HTTP API RESTful response"
   ]
  },
  {
   "cell_type": "code",
   "execution_count": 16,
   "metadata": {},
   "outputs": [],
   "source": [
    "png = \"data:image/png;base64,iVBORw0KGgoAAAANSUhEUgAAAAUAAAAFCAYAAACNbyblAAAAHElEQVQI12P4//8/w38GIAXDIBKE0DHxgljNBAAO9TXL0Y4OHwAAAABJRU5ErkJggg==\""
   ]
  },
  {
   "cell_type": "markdown",
   "metadata": {},
   "source": [
    "#### Inline: display it inline in the notebook"
   ]
  },
  {
   "cell_type": "code",
   "execution_count": 17,
   "metadata": {},
   "outputs": [
    {
     "data": {
      "image/png": "[encoded data removed]",
      "text/plain": [
       "<IPython.core.display.Image object>"
      ]
     },
     "execution_count": 17,
     "metadata": {},
     "output_type": "execute_result"
    }
   ],
   "source": [
    "import base64\n",
    "import IPython.display as display\n",
    "display.Image(base64.b64decode(png.split(',')[1]))"
   ]
  },
  {
   "cell_type": "markdown",
   "metadata": {},
   "source": [
    "#### Expose as a data field\n",
    "This format works well for javascript background api calls"
   ]
  },
  {
   "cell_type": "code",
   "execution_count": 18,
   "metadata": {},
   "outputs": [
    {
     "name": "stdout",
     "output_type": "stream",
     "text": [
      "data:image/png;base64,iVBORw0KGgoAAAANSUhEUgAAAAUAAAAFCAYAAACNbyblAAAAHElEQVQI12P4//8/w38GIAXDIBKE0DHxgljNBAAO9TXL0Y4OHwAAAABJRU5ErkJggg==\n"
     ]
    }
   ],
   "source": [
    "# GET /image-data\n",
    "print(png)"
   ]
  },
  {
   "cell_type": "markdown",
   "metadata": {},
   "source": [
    "#### Expose as a html snippet\n",
    "This format works well for inclusion in html dynamically generated views"
   ]
  },
  {
   "cell_type": "code",
   "execution_count": 19,
   "metadata": {},
   "outputs": [
    {
     "name": "stdout",
     "output_type": "stream",
     "text": [
      "<img src=data:image/png;base64,iVBORw0KGgoAAAANSUhEUgAAAAUAAAAFCAYAAACNbyblAAAAHElEQVQI12P4//8/w38GIAXDIBKE0DHxgljNBAAO9TXL0Y4OHwAAAABJRU5ErkJggg== />\n"
     ]
    }
   ],
   "source": [
    "# GET /image-html\n",
    "print('<img src={} />'.format(png))"
   ]
  },
  {
   "cell_type": "code",
   "execution_count": 20,
   "metadata": {},
   "outputs": [
    {
     "name": "stdout",
     "output_type": "stream",
     "text": [
      "{\"headers\": {\"Content-Type\": \"text/html\"}}\n"
     ]
    }
   ],
   "source": [
    "# ResponseInfo GET /image-html\n",
    "print(json.dumps({\"headers\" : { \"Content-Type\" : 'text/html'}}))"
   ]
  },
  {
   "cell_type": "markdown",
   "metadata": {},
   "source": [
    "### RESTful API: counters\n",
    "\n",
    "The Jupyter Kernel eventually is responsible for running the notebook cells that you are reading here. Next to executing the code cells, it will also keep as part of its state and variable that you will declare in the notebook. Here below we will use the context of the kernel to manage a dynamic list of counters via a RESTful API."
   ]
  },
  {
   "cell_type": "code",
   "execution_count": 21,
   "metadata": {},
   "outputs": [],
   "source": [
    "counters = dict()"
   ]
  },
  {
   "cell_type": "markdown",
   "metadata": {},
   "source": [
    "Here below we are going to mock a REQUEST object as passed by the Jupyter Kernel Gateway, so that we can check if the code is functioning even when we are in jupyter notebook mode. When working in gateway mode, the REQUEST variable is provided by the client via the Gateway."
   ]
  },
  {
   "cell_type": "code",
   "execution_count": 22,
   "metadata": {},
   "outputs": [
    {
     "data": {
      "text/plain": [
       "'{\"body\": {\"value\": 5}, \"path\": {\"id\": \"cnt\"}, \"args\": {}, \"headers\": {}}'"
      ]
     },
     "execution_count": 22,
     "metadata": {},
     "output_type": "execute_result"
    }
   ],
   "source": [
    "REQUEST = json.dumps({\n",
    "    'body': {\n",
    "        'value': 5\n",
    "    },\n",
    "    'path': {\n",
    "        'id': 'cnt'\n",
    "    },\n",
    "    'args': {\n",
    "    },\n",
    "    'headers': {\n",
    "    }\n",
    "})\n",
    "\n",
    "REQUEST"
   ]
  },
  {
   "cell_type": "code",
   "execution_count": 23,
   "metadata": {},
   "outputs": [],
   "source": [
    "# GET /counters/:id\n",
    "req = json.loads(REQUEST)\n",
    "counter_id = req['path']['id']\n",
    "\n",
    "status = 200 if counter_id in counters else 404\n",
    "value  = counters.get(counter_id, None)\n",
    "if value:\n",
    "    print(json.dumps({'value': value}))"
   ]
  },
  {
   "cell_type": "code",
   "execution_count": 24,
   "metadata": {},
   "outputs": [
    {
     "name": "stdout",
     "output_type": "stream",
     "text": [
      "{\"headers\": {\"Content-Type\": \"application/json\"}, \"status\": 404}\n"
     ]
    }
   ],
   "source": [
    "# ResponseInfo GET /counters/:id\n",
    "print(json.dumps({\"headers\" : { \"Content-Type\" : 'application/json'}, \"status\" : status}))"
   ]
  },
  {
   "cell_type": "code",
   "execution_count": 25,
   "metadata": {},
   "outputs": [],
   "source": [
    "# PUT /counters/:id\n",
    "req = json.loads(REQUEST)\n",
    "counter_id = req['path']['id']\n",
    "counter_value = req['body']['value']\n",
    "counters[counter_id]=counter_value"
   ]
  },
  {
   "cell_type": "code",
   "execution_count": 26,
   "metadata": {},
   "outputs": [],
   "source": [
    "# POST /counters/:id\n",
    "req = json.loads(REQUEST)\n",
    "counter_id = req['path']['id']\n",
    "\n",
    "counters[counter_id]  = counters.get(counter_id, 0) + 1"
   ]
  },
  {
   "cell_type": "code",
   "execution_count": 27,
   "metadata": {},
   "outputs": [
    {
     "name": "stdout",
     "output_type": "stream",
     "text": [
      "{\"status\": 201}\n"
     ]
    }
   ],
   "source": [
    "# ResponseInfo POST /counters/:id\n",
    "print(json.dumps({\"status\" : 201}))"
   ]
  },
  {
   "cell_type": "code",
   "execution_count": 28,
   "metadata": {},
   "outputs": [],
   "source": [
    "# DELETE /counters/:id\n",
    "req = json.loads(REQUEST)\n",
    "counter_id = req['path']['id']\n",
    "result = counters.pop(counter_id, None)"
   ]
  },
  {
   "cell_type": "code",
   "execution_count": 29,
   "metadata": {},
   "outputs": [
    {
     "name": "stdout",
     "output_type": "stream",
     "text": [
      "[]\n"
     ]
    }
   ],
   "source": [
    "# GET /counters\n",
    "req = json.loads(REQUEST)\n",
    "# query args appear as a list since they can be repeated in the URL\n",
    "f = req.get('args', {}).get('filter', [None])[0]\n",
    "\n",
    "if f:\n",
    "    print(json.dumps([{k: {'value':v}} for k,v in counters.items() if f in k]))\n",
    "else:\n",
    "    print(json.dumps([{k: {'value':v}} for k,v in counters.items()]))"
   ]
  },
  {
   "cell_type": "code",
   "execution_count": 30,
   "metadata": {},
   "outputs": [
    {
     "name": "stdout",
     "output_type": "stream",
     "text": [
      "{\"headers\": {\"Content-Type\": \"application/json\"}, \"status\": 200}\n"
     ]
    }
   ],
   "source": [
    "# ResponseInfo GET /counters\n",
    "print(json.dumps({\"headers\" : { \"Content-Type\" : 'application/json'}, \"status\" : 200}))"
   ]
  },
  {
   "cell_type": "markdown",
   "metadata": {},
   "source": [
    "That's all folks"
   ]
  },
  {
   "cell_type": "code",
   "execution_count": null,
   "metadata": {},
   "outputs": [],
   "source": []
  }
 ],
 "metadata": {
  "kernelspec": {
   "display_name": "Python 3",
   "language": "python",
   "name": "python3"
  },
  "language_info": {
   "codemirror_mode": {
    "name": "ipython",
    "version": 3
   },
   "file_extension": ".py",
   "mimetype": "text/x-python",
   "name": "python",
   "nbconvert_exporter": "python",
   "pygments_lexer": "ipython3",
   "version": "3.6.4"
  }
 },
 "nbformat": 4,
 "nbformat_minor": 2
}
